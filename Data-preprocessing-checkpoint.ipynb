{
 "cells": [
  {
   "cell_type": "markdown",
   "metadata": {},
   "source": [
    "## Analyzing borrowers’ risk of defaulting\n",
    "\n",
    "Your project is to prepare a report for a bank’s loan division. You’ll need to find out if a customer’s marital status and number of children has an impact on whether they will default on a loan. The bank already has some data on customers’ credit worthiness.\n",
    "\n",
    "Your report will be considered when building a **credit scoring** of a potential customer. A ** credit scoring ** is used to evaluate the ability of a potential borrower to repay their loan."
   ]
  },
  {
   "cell_type": "markdown",
   "metadata": {},
   "source": [
    "**Step 1. Open the data file and have a look at the general information."
   ]
  },
  {
   "cell_type": "code",
   "execution_count": 4,
   "metadata": {
    "scrolled": true
   },
   "outputs": [
    {
     "name": "stdout",
     "output_type": "stream",
     "text": [
      "       children  days_employed  dob_years            education  education_id  \\\n",
      "0             1   -8437.672852         42    bachelor's degree             0   \n",
      "1             1   -4024.803711         36  secondary education             1   \n",
      "2             0   -5623.422852         33  Secondary Education             1   \n",
      "3             3   -4124.747070         32  secondary education             1   \n",
      "4             0  340266.062500         53  secondary education             1   \n",
      "...         ...            ...        ...                  ...           ...   \n",
      "21520         1   -4529.316895         43  secondary education             1   \n",
      "21521         0  343937.406250         67  secondary education             1   \n",
      "21522         1   -2113.346924         38  secondary education             1   \n",
      "21523         3   -3112.481689         38  secondary education             1   \n",
      "21524         2   -1984.507568         40  secondary education             1   \n",
      "\n",
      "           family_status  family_status_id gender income_type  debt  \\\n",
      "0                married                 0      F    employee     0   \n",
      "1                married                 0      F    employee     0   \n",
      "2                married                 0      M    employee     0   \n",
      "3                married                 0      M    employee     0   \n",
      "4      civil partnership                 1      F     retiree     0   \n",
      "...                  ...               ...    ...         ...   ...   \n",
      "21520  civil partnership                 1      F    business     0   \n",
      "21521            married                 0      F     retiree     0   \n",
      "21522  civil partnership                 1      M    employee     1   \n",
      "21523            married                 0      M    employee     1   \n",
      "21524            married                 0      F    employee     0   \n",
      "\n",
      "       total_income                  purpose  \n",
      "0      40620.101562    purchase of the house  \n",
      "1      17932.802734             car purchase  \n",
      "2      23341.751953    purchase of the house  \n",
      "3      42820.566406  supplementary education  \n",
      "4      25378.572266        to have a wedding  \n",
      "...             ...                      ...  \n",
      "21520  35966.699219     housing transactions  \n",
      "21521  24959.968750        purchase of a car  \n",
      "21522  14347.610352                 property  \n",
      "21523  39054.886719        buying my own car  \n",
      "21524  13127.586914             to buy a car  \n",
      "\n",
      "[21525 rows x 12 columns]\n"
     ]
    }
   ],
   "source": [
    "import pandas as pd\n",
    "loan = pd.read_csv(r'C:\\Users\\User\\Downloads\\credit_scoring_eng.csv')\n",
    "loan[['children','dob_years', 'education_id', 'family_status_id', 'debt',]] = loan[['children','dob_years', 'education_id', 'family_status_id', 'debt',]].astype('int32')\n",
    "loan[['days_employed', 'total_income']] = loan[['days_employed', 'total_income']].astype('float32')\n",
    "print(loan)"
   ]
  },
  {
   "cell_type": "markdown",
   "metadata": {},
   "source": [
    "### Conclusion"
   ]
  },
  {
   "cell_type": "markdown",
   "metadata": {},
   "source": [
    "First of all, checked all the dataset to get an averall comprehension. I saw dataset (with info() method) has no problem with data types, so no need for data type changing. Only changing was to lwo the memory usage from int64 and float64 to int32 and float32."
   ]
  },
  {
   "cell_type": "markdown",
   "metadata": {},
   "source": [
    "### Step 2. Data preprocessing"
   ]
  },
  {
   "cell_type": "markdown",
   "metadata": {},
   "source": [
    "**•\tIdentify and fill in missing values\n",
    "•\tReplace the real number data type with the integer type\n",
    "•\tDelete duplicate data\n",
    "•\tCategorize the data\n",
    "Be sure to explain:\n",
    "•\tWhich missing values you identified\n",
    "•\tPossible reasons these missing values were present\n",
    "•\tWhich method you used to fill in missing values\n",
    "•\tWhich method you used to find and delete duplicate data and why\n",
    "•\tPossible reasons why duplicate data was present\n",
    "•\tWhich method you used to change the data type and why\n",
    "•\tWhich dictionaries you've selected for this dataset and why\n",
    "The data may contain artifacts, or values that don't correspond to reality (for instance, a negative number of days employed). This kind of thing happens when you're working with real data. You need to describe the possible reasons such data may have turned up and process it.\n"
   ]
  },
  {
   "cell_type": "markdown",
   "metadata": {},
   "source": [
    "### Processing missing values"
   ]
  },
  {
   "cell_type": "code",
   "execution_count": 5,
   "metadata": {},
   "outputs": [
    {
     "name": "stdout",
     "output_type": "stream",
     "text": [
      " 0     14149\n",
      " 1      4818\n",
      " 2      2055\n",
      " 3       330\n",
      " 20       76\n",
      "-1        47\n",
      " 4        41\n",
      " 5         9\n",
      "Name: children, dtype: int64\n",
      "-1272.242310      2\n",
      "-1510.738159      2\n",
      "-995.549683       2\n",
      "-1759.180664      2\n",
      " 375045.281250    2\n",
      "                 ..\n",
      "-410.642029       1\n",
      " 387730.000000    1\n",
      "-2100.853516      1\n",
      " 338580.562500    1\n",
      "-368.001373       1\n",
      "Name: days_employed, Length: 19345, dtype: int64\n",
      "35    617\n",
      "40    609\n",
      "41    607\n",
      "34    603\n",
      "38    598\n",
      "42    597\n",
      "33    581\n",
      "39    573\n",
      "31    560\n",
      "36    555\n",
      "44    547\n",
      "29    545\n",
      "30    540\n",
      "48    538\n",
      "37    537\n",
      "50    514\n",
      "43    513\n",
      "32    510\n",
      "49    508\n",
      "28    503\n",
      "45    497\n",
      "27    493\n",
      "56    487\n",
      "52    484\n",
      "47    480\n",
      "54    479\n",
      "46    475\n",
      "58    461\n",
      "57    460\n",
      "53    459\n",
      "51    448\n",
      "59    444\n",
      "55    443\n",
      "26    408\n",
      "60    377\n",
      "25    357\n",
      "61    355\n",
      "62    352\n",
      "63    269\n",
      "64    265\n",
      "24    264\n",
      "23    254\n",
      "65    194\n",
      "66    183\n",
      "22    183\n",
      "67    167\n",
      "21    111\n",
      "0     101\n",
      "68     99\n",
      "69     85\n",
      "70     65\n",
      "71     58\n",
      "20     51\n",
      "72     33\n",
      "19     14\n",
      "73      8\n",
      "74      6\n",
      "75      1\n",
      "Name: dob_years, dtype: int64\n",
      "secondary education    13750\n",
      "bachelor's degree       4718\n",
      "SECONDARY EDUCATION      772\n",
      "Secondary Education      711\n",
      "some college             668\n",
      "BACHELOR'S DEGREE        274\n",
      "Bachelor's Degree        268\n",
      "primary education        250\n",
      "Some College              47\n",
      "SOME COLLEGE              29\n",
      "PRIMARY EDUCATION         17\n",
      "Primary Education         15\n",
      "graduate degree            4\n",
      "GRADUATE DEGREE            1\n",
      "Graduate Degree            1\n",
      "Name: education, dtype: int64\n",
      "1    15233\n",
      "0     5260\n",
      "2      744\n",
      "3      282\n",
      "4        6\n",
      "Name: education_id, dtype: int64\n",
      "married              12380\n",
      "civil partnership     4177\n",
      "unmarried             2813\n",
      "divorced              1195\n",
      "widow / widower        960\n",
      "Name: family_status, dtype: int64\n",
      "0    12380\n",
      "1     4177\n",
      "4     2813\n",
      "3     1195\n",
      "2      960\n",
      "Name: family_status_id, dtype: int64\n",
      "F      14236\n",
      "M       7288\n",
      "XNA        1\n",
      "Name: gender, dtype: int64\n",
      "employee                       11119\n",
      "business                        5085\n",
      "retiree                         3856\n",
      "civil servant                   1459\n",
      "entrepreneur                       2\n",
      "unemployed                         2\n",
      "student                            1\n",
      "paternity / maternity leave        1\n",
      "Name: income_type, dtype: int64\n",
      "0    19784\n",
      "1     1741\n",
      "Name: debt, dtype: int64\n",
      "20546.988281    2\n",
      "18555.802734    2\n",
      "17312.716797    2\n",
      "42413.097656    2\n",
      "77286.476562    2\n",
      "               ..\n",
      "13142.038086    1\n",
      "34136.222656    1\n",
      "21963.048828    1\n",
      "25803.902344    1\n",
      "16720.683594    1\n",
      "Name: total_income, Length: 19343, dtype: int64\n",
      "wedding ceremony                            797\n",
      "having a wedding                            777\n",
      "to have a wedding                           774\n",
      "real estate transactions                    676\n",
      "buy commercial real estate                  664\n",
      "housing transactions                        653\n",
      "buying property for renting out             653\n",
      "transactions with commercial real estate    651\n",
      "housing                                     647\n",
      "purchase of the house                       647\n",
      "purchase of the house for my family         641\n",
      "construction of own property                635\n",
      "property                                    634\n",
      "transactions with my real estate            630\n",
      "building a real estate                      626\n",
      "buy real estate                             624\n",
      "building a property                         620\n",
      "purchase of my own house                    620\n",
      "housing renovation                          612\n",
      "buy residential real estate                 607\n",
      "buying my own car                           505\n",
      "going to university                         496\n",
      "car                                         495\n",
      "second-hand car purchase                    489\n",
      "to own a car                                480\n",
      "buying a second-hand car                    479\n",
      "cars                                        478\n",
      "to buy a car                                472\n",
      "supplementary education                     462\n",
      "car purchase                                462\n",
      "purchase of a car                           455\n",
      "university education                        453\n",
      "education                                   447\n",
      "to get a supplementary education            447\n",
      "getting an education                        443\n",
      "profile education                           436\n",
      "getting higher education                    426\n",
      "to become educated                          412\n",
      "Name: purpose, dtype: int64\n",
      "0    14149\n",
      "1     4865\n",
      "2     2131\n",
      "3      330\n",
      "4       41\n",
      "5        9\n",
      "Name: children, dtype: int64\n",
      "1272.242310      2\n",
      "1510.738159      2\n",
      "995.549683       2\n",
      "1759.180664      2\n",
      "375045.281250    2\n",
      "                ..\n",
      "410.642029       1\n",
      "387730.000000    1\n",
      "2100.853516      1\n",
      "338580.562500    1\n",
      "368.001373       1\n",
      "Name: days_employed, Length: 19345, dtype: int64\n",
      "35.00000    617\n",
      "40.00000    609\n",
      "41.00000    607\n",
      "34.00000    603\n",
      "38.00000    598\n",
      "42.00000    597\n",
      "33.00000    581\n",
      "39.00000    573\n",
      "31.00000    560\n",
      "36.00000    555\n",
      "44.00000    547\n",
      "29.00000    545\n",
      "30.00000    540\n",
      "48.00000    538\n",
      "37.00000    537\n",
      "50.00000    514\n",
      "43.00000    513\n",
      "32.00000    510\n",
      "49.00000    508\n",
      "28.00000    503\n",
      "45.00000    497\n",
      "27.00000    493\n",
      "56.00000    487\n",
      "52.00000    484\n",
      "47.00000    480\n",
      "54.00000    479\n",
      "46.00000    475\n",
      "58.00000    461\n",
      "57.00000    460\n",
      "53.00000    459\n",
      "51.00000    448\n",
      "59.00000    444\n",
      "55.00000    443\n",
      "26.00000    408\n",
      "60.00000    377\n",
      "25.00000    357\n",
      "61.00000    355\n",
      "62.00000    352\n",
      "63.00000    269\n",
      "64.00000    265\n",
      "24.00000    264\n",
      "23.00000    254\n",
      "65.00000    194\n",
      "66.00000    183\n",
      "22.00000    183\n",
      "67.00000    167\n",
      "21.00000    111\n",
      "43.29338    101\n",
      "68.00000     99\n",
      "69.00000     85\n",
      "70.00000     65\n",
      "71.00000     58\n",
      "20.00000     51\n",
      "72.00000     33\n",
      "19.00000     14\n",
      "73.00000      8\n",
      "74.00000      6\n",
      "75.00000      1\n",
      "Name: dob_years, dtype: int64\n",
      "secondary education    13750\n",
      "bachelor's degree       4718\n",
      "SECONDARY EDUCATION      772\n",
      "Secondary Education      711\n",
      "some college             668\n",
      "BACHELOR'S DEGREE        274\n",
      "Bachelor's Degree        268\n",
      "primary education        250\n",
      "Some College              47\n",
      "SOME COLLEGE              29\n",
      "PRIMARY EDUCATION         17\n",
      "Primary Education         15\n",
      "graduate degree            4\n",
      "GRADUATE DEGREE            1\n",
      "Graduate Degree            1\n",
      "Name: education, dtype: int64\n",
      "1    15233\n",
      "0     5260\n",
      "2      744\n",
      "3      282\n",
      "4        6\n",
      "Name: education_id, dtype: int64\n",
      "married              12380\n",
      "civil partnership     4177\n",
      "unmarried             2813\n",
      "divorced              1195\n",
      "widow / widower        960\n",
      "Name: family_status, dtype: int64\n",
      "0    12380\n",
      "1     4177\n",
      "4     2813\n",
      "3     1195\n",
      "2      960\n",
      "Name: family_status_id, dtype: int64\n",
      "F      14236\n",
      "M       7288\n",
      "XNA        1\n",
      "Name: gender, dtype: int64\n",
      "employee                       11119\n",
      "business                        5085\n",
      "retiree                         3856\n",
      "civil servant                   1459\n",
      "entrepreneur                       2\n",
      "unemployed                         2\n",
      "student                            1\n",
      "paternity / maternity leave        1\n",
      "Name: income_type, dtype: int64\n",
      "0    19784\n",
      "1     1741\n",
      "Name: debt, dtype: int64\n",
      "20546.988281    2\n",
      "18555.802734    2\n",
      "17312.716797    2\n",
      "42413.097656    2\n",
      "77286.476562    2\n",
      "               ..\n",
      "13142.038086    1\n",
      "34136.222656    1\n",
      "21963.048828    1\n",
      "25803.902344    1\n",
      "16720.683594    1\n",
      "Name: total_income, Length: 19343, dtype: int64\n",
      "wedding ceremony                            797\n",
      "having a wedding                            777\n",
      "to have a wedding                           774\n",
      "real estate transactions                    676\n",
      "buy commercial real estate                  664\n",
      "housing transactions                        653\n",
      "buying property for renting out             653\n",
      "transactions with commercial real estate    651\n",
      "housing                                     647\n",
      "purchase of the house                       647\n",
      "purchase of the house for my family         641\n",
      "construction of own property                635\n",
      "property                                    634\n",
      "transactions with my real estate            630\n",
      "building a real estate                      626\n",
      "buy real estate                             624\n",
      "building a property                         620\n",
      "purchase of my own house                    620\n",
      "housing renovation                          612\n",
      "buy residential real estate                 607\n",
      "buying my own car                           505\n",
      "going to university                         496\n",
      "car                                         495\n",
      "second-hand car purchase                    489\n",
      "to own a car                                480\n",
      "buying a second-hand car                    479\n",
      "cars                                        478\n",
      "to buy a car                                472\n",
      "supplementary education                     462\n",
      "car purchase                                462\n",
      "purchase of a car                           455\n",
      "university education                        453\n",
      "education                                   447\n",
      "to get a supplementary education            447\n",
      "getting an education                        443\n",
      "profile education                           436\n",
      "getting higher education                    426\n",
      "to become educated                          412\n",
      "Name: purpose, dtype: int64\n"
     ]
    }
   ],
   "source": [
    "for c in loan.columns:\n",
    "    print(loan[c].value_counts())\n",
    "    \n",
    "avg_dob_years = loan['dob_years'].mean()\n",
    "dob_missing = loan.loc[loan['dob_years'] == 0, 'dob_years'] = avg_dob_years\n",
    "\n",
    "children_missing = loan.loc[loan['children'] == -1, 'children'] = 1\n",
    "children_missing = loan.loc[loan['children'] == 20, 'children'] = 2\n",
    "loan['days_employed'] = abs(loan['days_employed'])\n",
    "for c in loan.columns:\n",
    "    print(loan[c].value_counts())\n"
   ]
  },
  {
   "cell_type": "markdown",
   "metadata": {},
   "source": [
    "### Conclusion"
   ]
  },
  {
   "cell_type": "markdown",
   "metadata": {},
   "source": [
    "First, I tried every column for any missing value with value_counts() method. I came out that there are some doubtful values. At children column there are some applicants with 20 children(not a normal number of children these days) and -1 children. At dob_years column there are 101 people with 0 age. At the purpose and education columns, many values have the same meanings but in different values. I changed -1 children with 1 and 20 with 2, as it is more normal that user has made a mistake in putting information. These are a MCAR, because children value do not depend on other values; we just add the value that is more normal relying on most logical situation. i have used boolean indexing to be more insured because sometimes fillna() does not work. In the dob_years I changed 0 years old with the mean of all column. I also checked if there was any age under 18 years old. All the values that were negative at days_employed I changed with positive values using abs(). After I made the changes, I checked again the results, with value_counts(). "
   ]
  },
  {
   "cell_type": "markdown",
   "metadata": {},
   "source": [
    "### Conclusion"
   ]
  },
  {
   "cell_type": "markdown",
   "metadata": {},
   "source": [
    "At education column we have a problem with duplicates, we have many same values but some are fully capitalized, some are lowercased etc; so we have duplicated values. Also in purpose column, there are many values with same meaning that can be grouped in one value of the column. For each column we use some methods to resolve these issues. "
   ]
  },
  {
   "cell_type": "markdown",
   "metadata": {},
   "source": [
    "### Processing duplicates"
   ]
  },
  {
   "cell_type": "code",
   "execution_count": 3,
   "metadata": {},
   "outputs": [
    {
     "name": "stdout",
     "output_type": "stream",
     "text": [
      "secondary education    15233\n",
      "bachelor's degree       5260\n",
      "some college             744\n",
      "primary education        282\n",
      "graduate degree            6\n",
      "Name: education, dtype: int64\n"
     ]
    }
   ],
   "source": [
    "loan['education'] = loan['education'].str.lower()\n",
    "print(loan['education'].value_counts())\n",
    "\n"
   ]
  },
  {
   "cell_type": "markdown",
   "metadata": {},
   "source": [
    "### Conclusion"
   ]
  },
  {
   "cell_type": "markdown",
   "metadata": {},
   "source": [
    "Processed all duplicates. They were at education columns and had the problem of case sensityvity."
   ]
  },
  {
   "cell_type": "markdown",
   "metadata": {},
   "source": [
    "### Categorizing Data"
   ]
  },
  {
   "cell_type": "code",
   "execution_count": 4,
   "metadata": {},
   "outputs": [
    {
     "name": "stdout",
     "output_type": "stream",
     "text": [
      "real estate    4478\n",
      "car            4315\n",
      "education      4022\n",
      "house          3820\n",
      "property       2542\n",
      "wedding        2348\n",
      "Name: purpose, dtype: int64\n"
     ]
    }
   ],
   "source": [
    "from nltk.stem import SnowballStemmer\n",
    "import pandas as pd\n",
    "english_stemmer = SnowballStemmer('english')\n",
    "loan = pd.read_csv('/datasets/credit_scoring_eng.csv')\n",
    "purpose_grouped = loan.groupby('purpose').count()\n",
    "purpose = loan['purpose']\n",
    "\n",
    "\n",
    "def short_purpose(value):\n",
    "    for word in value.split(' '):\n",
    "        stemmed_list = [english_stemmer.stem(word) for word in value.split(' ')]\n",
    "        if 'wed' in stemmed_list:\n",
    "            return 'wedding'\n",
    "        elif 'properti' in stemmed_list:\n",
    "            return 'property'\n",
    "        elif 'hous'in stemmed_list:\n",
    "            return 'house'\n",
    "        elif 'univers' in  stemmed_list:\n",
    "            return 'education'\n",
    "        elif 'educ' in  stemmed_list:\n",
    "            return 'education'\n",
    "        elif 'car' in  stemmed_list:\n",
    "            return 'car'\n",
    "        else:\n",
    "            return 'real estate'\n",
    "\n",
    "\n",
    "loan['purpose']=loan['purpose'].apply(short_purpose)\n",
    "print(loan['purpose'].value_counts())\n"
   ]
  },
  {
   "cell_type": "code",
   "execution_count": 5,
   "metadata": {},
   "outputs": [
    {
     "name": "stdout",
     "output_type": "stream",
     "text": [
      "low-average     16566\n",
      "high             2846\n",
      "high-average     1187\n",
      "low               926\n",
      "Name: income_value, dtype: int64\n"
     ]
    }
   ],
   "source": [
    "def income_value(income):\n",
    "    if income < 10000:\n",
    "        return 'low'\n",
    "    if income >= 10000 and income < 45000:\n",
    "        return 'low-average'\n",
    "    if income >= 45000 and income < 60000:\n",
    "        return 'high-average'\n",
    "    else:\n",
    "        return 'high'\n",
    "loan['income_value'] = loan['total_income'].apply(income_value)\n",
    "print(loan['income_value'].value_counts())"
   ]
  },
  {
   "cell_type": "markdown",
   "metadata": {},
   "source": [
    "### Conclusion"
   ]
  },
  {
   "cell_type": "markdown",
   "metadata": {},
   "source": [
    "I categorized purposes and incomes in the above code. Many purposes had the same purpose meaning and I grouped them together and I did an income categorizing for the next task.  "
   ]
  },
  {
   "cell_type": "markdown",
   "metadata": {},
   "source": [
    "### Step 3. Answer these questions"
   ]
  },
  {
   "cell_type": "markdown",
   "metadata": {},
   "source": [
    "•\tIs there a connection between having kids and repaying a loan on time?\n",
    "•\tIs there a connection between marital status and repaying a loan on time?\n",
    "•\tIs there a connection between income level and repaying a loan on time?\n",
    "•\tHow do different loan purposes affect on-time loan repayment?\n",
    "Interpret your answers. Explain what the results you obtained mean.\n"
   ]
  },
  {
   "cell_type": "markdown",
   "metadata": {},
   "source": [
    "- Is there a relation between having kids and repaying a loan on time?"
   ]
  },
  {
   "cell_type": "code",
   "execution_count": 6,
   "metadata": {},
   "outputs": [
    {
     "name": "stdout",
     "output_type": "stream",
     "text": [
      "debt_type  Defaulted  not_Defaulted  Defaulted_percentage\n",
      "children                                                 \n",
      "0             1063.0        13086.0              7.512898\n",
      "1              445.0         4420.0              9.146968\n",
      "2              202.0         1929.0              9.479118\n",
      "3               27.0          303.0              8.181818\n",
      "4                4.0           37.0              9.756098\n",
      "5                0.0            9.0              0.000000\n"
     ]
    }
   ],
   "source": [
    "import pandas as pd\n",
    "loan = pd.read_csv('/datasets/credit_scoring_eng.csv')\n",
    "children_missing = loan.loc[loan['children'] == -1, 'children'] = 1\n",
    "children_missing = loan.loc[loan['children'] == 20, 'children'] = 2\n",
    "\n",
    "def debt_type(value):\n",
    "    if value == 1:\n",
    "        return'Defaulted'\n",
    "    else:\n",
    "        return'not_Defaulted'\n",
    "loan['debt_type'] = loan['debt'].apply(debt_type)\n",
    "children_pivot = loan.pivot_table(index='children', values='debt', columns='debt_type', aggfunc='count')\n",
    "children_pivot['Defaulted'] = children_pivot['Defaulted'].fillna(0)\n",
    "\n",
    "children_pivot['Defaulted_percentage'] = children_pivot['Defaulted'] / (children_pivot['Defaulted'] + children_pivot['not_Defaulted']) * 100\n",
    "children_pivot['Defaulted_percentage'] = children_pivot['Defaulted_percentage'].sort_values(ascending=True)\n",
    "\n",
    "\n",
    "print(children_pivot)"
   ]
  },
  {
   "cell_type": "markdown",
   "metadata": {},
   "source": [
    "We can say there is a matching between number of children and repaying loan. From the results, I see that bad mortgage happens more often when a client has children and happens rarely when client has no children. This may happen because poeple who are parents have more responsibilities and can face more financial difficulties. "
   ]
  },
  {
   "cell_type": "markdown",
   "metadata": {},
   "source": [
    "- Is there a relation between marital status and repaying a loan on time?"
   ]
  },
  {
   "cell_type": "code",
   "execution_count": 7,
   "metadata": {},
   "outputs": [
    {
     "name": "stdout",
     "output_type": "stream",
     "text": [
      "debt_type          Defaulted  not_Defaulted  defaulted_percentage\n",
      "family_status                                                    \n",
      "civil partnership        388           3789              9.288963\n",
      "divorced                  85           1110              7.112971\n",
      "married                  931          11449              7.520194\n",
      "unmarried                274           2539              9.740491\n",
      "widow / widower           63            897              6.562500\n"
     ]
    }
   ],
   "source": [
    "def debt_type(value):\n",
    "    if value == 1:\n",
    "        return'Defaulted'\n",
    "    else:\n",
    "        return'not_Defaulted'\n",
    "loan['debt_type'] = loan['debt'].apply(debt_type)\n",
    "family_pivot = loan.pivot_table(index='family_status', values='debt', columns='debt_type', aggfunc='count')\n",
    "family_pivot['defaulted_percentage'] = family_pivot['Defaulted'] / (family_pivot['Defaulted'] + family_pivot['not_Defaulted']) * 100\n",
    "print(family_pivot)\n"
   ]
  },
  {
   "cell_type": "markdown",
   "metadata": {},
   "source": [
    "### Conclusion"
   ]
  },
  {
   "cell_type": "markdown",
   "metadata": {},
   "source": [
    "From the results I see that, people that are in a civil partnership or unmarried, have a higher percentage of not paying debts. I believe this happens because of age. Usually single people are in a young age and have nonstable financial situation, on the other side married people also have support form their families."
   ]
  },
  {
   "cell_type": "markdown",
   "metadata": {},
   "source": [
    "- Is there a relation between income level and repaying a loan on time?"
   ]
  },
  {
   "cell_type": "code",
   "execution_count": 8,
   "metadata": {},
   "outputs": [
    {
     "name": "stdout",
     "output_type": "stream",
     "text": [
      "debt_type     Defaulted  not_Defaulted  defaulted_percentage\n",
      "income_value                                                \n",
      "high                208           2638              7.308503\n",
      "high-average         94           1093              7.919124\n",
      "low                  58            868              6.263499\n",
      "low-average        1381          15185              8.336352\n"
     ]
    }
   ],
   "source": [
    "def debt_type(value):\n",
    "    if value == 1:\n",
    "        return'Defaulted'\n",
    "    else:\n",
    "        return'not_Defaulted'\n",
    "loan['debt_type'] = loan['debt'].apply(debt_type)\n",
    "\n",
    "def income_value(income):\n",
    "    if income < 10000:\n",
    "        return 'low'\n",
    "    if income >= 10000 and income < 45000:\n",
    "        return 'low-average'\n",
    "    if income >= 45000 and income < 60000:\n",
    "        return 'high-average'\n",
    "    else:\n",
    "        return 'high'\n",
    "    \n",
    "\n",
    "loan['income_value'] = loan['total_income'].apply(income_value)\n",
    "\n",
    "income_pivot = loan.pivot_table(index='income_value', values='debt', columns='debt_type', aggfunc='count')\n",
    "income_pivot['defaulted_percentage'] = income_pivot['Defaulted'] / (income_pivot['Defaulted'] + income_pivot['not_Defaulted']) * 100\n",
    "\n",
    "print(income_pivot)\n"
   ]
  },
  {
   "cell_type": "markdown",
   "metadata": {},
   "source": [
    "### Conclusion"
   ]
  },
  {
   "cell_type": "markdown",
   "metadata": {},
   "source": [
    "From the graph we can say that people with low-average income can be more potential on not paying credits."
   ]
  },
  {
   "cell_type": "markdown",
   "metadata": {},
   "source": [
    "- How do different loan purposes affect on-time repayment of the loan?"
   ]
  },
  {
   "cell_type": "code",
   "execution_count": 9,
   "metadata": {},
   "outputs": [
    {
     "data": {
      "text/html": [
       "<div>\n",
       "<style scoped>\n",
       "    .dataframe tbody tr th:only-of-type {\n",
       "        vertical-align: middle;\n",
       "    }\n",
       "\n",
       "    .dataframe tbody tr th {\n",
       "        vertical-align: top;\n",
       "    }\n",
       "\n",
       "    .dataframe thead th {\n",
       "        text-align: right;\n",
       "    }\n",
       "</style>\n",
       "<table border=\"1\" class=\"dataframe\">\n",
       "  <thead>\n",
       "    <tr style=\"text-align: right;\">\n",
       "      <th>debt_type</th>\n",
       "      <th>Defaulted</th>\n",
       "      <th>not_Defaulted</th>\n",
       "      <th>defaulted_percentage</th>\n",
       "    </tr>\n",
       "    <tr>\n",
       "      <th>short_purpose</th>\n",
       "      <th></th>\n",
       "      <th></th>\n",
       "      <th></th>\n",
       "    </tr>\n",
       "  </thead>\n",
       "  <tbody>\n",
       "    <tr>\n",
       "      <td>car</td>\n",
       "      <td>403</td>\n",
       "      <td>3912</td>\n",
       "      <td>9.339513</td>\n",
       "    </tr>\n",
       "    <tr>\n",
       "      <td>education</td>\n",
       "      <td>370</td>\n",
       "      <td>3652</td>\n",
       "      <td>9.199403</td>\n",
       "    </tr>\n",
       "    <tr>\n",
       "      <td>house</td>\n",
       "      <td>256</td>\n",
       "      <td>3564</td>\n",
       "      <td>6.701571</td>\n",
       "    </tr>\n",
       "    <tr>\n",
       "      <td>property</td>\n",
       "      <td>190</td>\n",
       "      <td>2352</td>\n",
       "      <td>7.474430</td>\n",
       "    </tr>\n",
       "    <tr>\n",
       "      <td>real estate</td>\n",
       "      <td>336</td>\n",
       "      <td>4142</td>\n",
       "      <td>7.503350</td>\n",
       "    </tr>\n",
       "    <tr>\n",
       "      <td>wedding</td>\n",
       "      <td>186</td>\n",
       "      <td>2162</td>\n",
       "      <td>7.921635</td>\n",
       "    </tr>\n",
       "  </tbody>\n",
       "</table>\n",
       "</div>"
      ],
      "text/plain": [
       "debt_type      Defaulted  not_Defaulted  defaulted_percentage\n",
       "short_purpose                                                \n",
       "car                  403           3912              9.339513\n",
       "education            370           3652              9.199403\n",
       "house                256           3564              6.701571\n",
       "property             190           2352              7.474430\n",
       "real estate          336           4142              7.503350\n",
       "wedding              186           2162              7.921635"
      ]
     },
     "metadata": {},
     "output_type": "display_data"
    }
   ],
   "source": [
    "import pandas as pd\n",
    "from nltk.stem import SnowballStemmer \n",
    "english_stemmer = SnowballStemmer('english')\n",
    "loan = pd.read_csv('/datasets/credit_scoring_eng.csv')\n",
    "\n",
    "loan['short_purpose'] = loan['purpose'].apply(short_purpose)\n",
    "\n",
    "loan['debt_type'] = loan['debt'].apply(debt_type)\n",
    "    \n",
    "purpose_pivot = loan.pivot_table(index='short_purpose', values='debt', columns='debt_type', aggfunc='count')\n",
    "purpose_pivot['defaulted_percentage'] = purpose_pivot['Defaulted'] / (purpose_pivot['Defaulted'] + purpose_pivot['not_Defaulted']) * 100\n",
    "\n",
    "display(purpose_pivot)"
   ]
  },
  {
   "cell_type": "markdown",
   "metadata": {},
   "source": [
    "### Conclusion"
   ]
  },
  {
   "cell_type": "markdown",
   "metadata": {},
   "source": [
    "From the graph above, we conclude in the fact that the most risky loan purpose for not repaying is buying a car and the less risky is buying a house. I think this may happen because buying a house is a long term repaying loan and buying a car is usually short term and with high rate of monthly repaying."
   ]
  },
  {
   "cell_type": "markdown",
   "metadata": {},
   "source": [
    "### Step 4. General conclusion"
   ]
  },
  {
   "cell_type": "markdown",
   "metadata": {},
   "source": [
    "In this project, we noticed that number of children of a borrower and family status, impact in repaying the loan. On the other side, also income influence in repyaing credit. The reason why people with low-average income have a higher level of not paying laon is because, people with this level of income, often tend to borrow more money than they can repay(they borrow to make an invest or for a luxurious good). We can see, high level of defaulty also for high-average. In my opinion, people in these levels of income tend to borrow more money they could pay, so they can make an investment to increase their income (and go to the other level of income) or buy luxurious gooods."
   ]
  },
  {
   "cell_type": "markdown",
   "metadata": {},
   "source": [
    "### Project Readiness Checklist\n",
    "\n",
    "Put 'x' in the completed points. Then press Shift + Enter."
   ]
  },
  {
   "cell_type": "markdown",
   "metadata": {},
   "source": [
    "- [x]  file open;\n",
    "- [x]  file examined;\n",
    "- [x]  missing values defined;\n",
    "- [x]  missing values are filled;\n",
    "- [x]  an explanation of which missing value types were detected;\n",
    "- [x]  explanation for the possible causes of missing values;\n",
    "- [x]  an explanation of how the blanks are filled;\n",
    "- [x]  replaced the real data type with an integer;\n",
    "- [x]  an explanation of which method is used to change the data type and why;\n",
    "- [x]  duplicates deleted;\n",
    "- [x]  an explanation of which method is used to find and remove duplicates;\n",
    "- [x]  description of the possible reasons for the appearance of duplicates in the data;\n",
    "- [x]  data is categorized;\n",
    "- [x]  an explanation of the principle of data categorization;\n",
    "- [x]  an answer to the question \"Is there a relation between having kids and repaying a loan on time?\";\n",
    "- [x]  an answer to the question \" Is there a relation between marital status and repaying a loan on time?\";\n",
    "- [x]   an answer to the question \" Is there a relation between income level and repaying a loan on time?\";\n",
    "- [x]  an answer to the question \" How do different loan purposes affect on-time repayment of the loan?\"\n",
    "- [x]  conclusions are present on each stage;\n",
    "- [x]  a general conclusion is made."
   ]
  }
 ],
 "metadata": {
  "kernelspec": {
   "display_name": "Python 3",
   "language": "python",
   "name": "python3"
  },
  "language_info": {
   "codemirror_mode": {
    "name": "ipython",
    "version": 3
   },
   "file_extension": ".py",
   "mimetype": "text/x-python",
   "name": "python",
   "nbconvert_exporter": "python",
   "pygments_lexer": "ipython3",
   "version": "3.7.4"
  }
 },
 "nbformat": 4,
 "nbformat_minor": 2
}
